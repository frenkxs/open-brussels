{
 "cells": [
  {
   "cell_type": "markdown",
   "metadata": {
    "collapsed": true
   },
   "source": [
    "Data wrangling and cleaning of OpenStreetMap dataset fot the Brussels metropolitan area. Detailed report: README.md"
   ]
  },
  {
   "cell_type": "code",
   "execution_count": 3,
   "metadata": {
    "collapsed": true
   },
   "outputs": [],
   "source": [
    "# original source file downloaded from https://s3.amazonaws.com/metro-extracts.mapzen.com/brussels_belgium.osm.bz2\n",
    "\n",
    "bxl = 'brussels_belgium.osm'"
   ]
  },
  {
   "cell_type": "markdown",
   "metadata": {},
   "source": [
    "# Exploration and preparing for export"
   ]
  },
  {
   "cell_type": "code",
   "execution_count": 1,
   "metadata": {
    "collapsed": false
   },
   "outputs": [],
   "source": [
    "# imprort all fucntions from file wrangled_brussels.py\n",
    "\n",
    "from wrangled_brussels import *"
   ]
  },
  {
   "cell_type": "markdown",
   "metadata": {},
   "source": [
    "## Encoding"
   ]
  },
  {
   "cell_type": "code",
   "execution_count": 35,
   "metadata": {
    "collapsed": false
   },
   "outputs": [],
   "source": [
    "# fix unicode for street and cities (mostly) for French names\n",
    "\n",
    "fix_osm(bxl, fix_unicode, 'name:fr')\n",
    "fix_osm(bxl, fix_unicode, 'name')\n",
    "fix_osm(bxl, fix_unicode, 'addr:street')\n",
    "fix_osm(bxl, fix_unicode, 'addr:city')\n",
    "fix_osm(bxl, fix_unicode, 'addr:city:fr')\n",
    "fix_osm(bxl, fix_unicode, 'addr:street:fr')\n",
    "fix_osm(bxl, fix_unicode, 'title')"
   ]
  },
  {
   "cell_type": "code",
   "execution_count": 6,
   "metadata": {
    "collapsed": false,
    "scrolled": true
   },
   "outputs": [
    {
     "data": {
      "text/plain": [
       "defaultdict(int,\n",
       "            {'addr:city:bi': 43997,\n",
       "             'addr:city:fr': 7285,\n",
       "             'addr:city:mono': 41350,\n",
       "             'addr:city:nl': 7285,\n",
       "             'addr:street:bi': 221764,\n",
       "             'addr:street:fr': 7325,\n",
       "             'addr:street:mono': 173648,\n",
       "             'addr:street:nl': 7324,\n",
       "             'city_total': 85347,\n",
       "             'street_total': 395412})"
      ]
     },
     "execution_count": 6,
     "metadata": {},
     "output_type": "execute_result"
    }
   ],
   "source": [
    "# Number of tags with different keys and values for cities and streets - before editing. More details in the report \n",
    "# (README.md).\n",
    "\n",
    "process_names(bxl)"
   ]
  },
  {
   "cell_type": "markdown",
   "metadata": {},
   "source": [
    "## Editing names"
   ]
  },
  {
   "cell_type": "code",
   "execution_count": 12,
   "metadata": {
    "collapsed": true
   },
   "outputs": [],
   "source": [
    "# Build dictionary of fixes\n",
    "\n",
    "city_fix = build_dict(bxl, 'addr:city')\n",
    "street_fix = build_dict(bxl, 'addr:street')"
   ]
  },
  {
   "cell_type": "code",
   "execution_count": 15,
   "metadata": {
    "collapsed": true
   },
   "outputs": [],
   "source": [
    "# fix streets\n",
    "\n",
    "fix_osm(bxl, fix_address, 'addr:street', **street_fix)"
   ]
  },
  {
   "cell_type": "code",
   "execution_count": 16,
   "metadata": {
    "collapsed": true
   },
   "outputs": [],
   "source": [
    "# fix cities\n",
    "\n",
    "fix_osm(bxl, fix_address, 'addr:city', **city_fix)"
   ]
  },
  {
   "cell_type": "code",
   "execution_count": 18,
   "metadata": {
    "collapsed": false
   },
   "outputs": [
    {
     "data": {
      "text/plain": [
       "defaultdict(int,\n",
       "            {'addr:city:bi': 61778,\n",
       "             'addr:city:fr': 7285,\n",
       "             'addr:city:mono': 23569,\n",
       "             'addr:city:nl': 7285,\n",
       "             'addr:street:bi': 255797,\n",
       "             'addr:street:fr': 7325,\n",
       "             'addr:street:mono': 139615,\n",
       "             'addr:street:nl': 7324,\n",
       "             'city_total': 85347,\n",
       "             'street_total': 395412})"
      ]
     },
     "execution_count": 18,
     "metadata": {},
     "output_type": "execute_result"
    }
   ],
   "source": [
    "# Number of tags with different keys and values for cities and streets - after editing. More details in the report \n",
    "# (README.md).\n",
    "\n",
    "process_names(bxl)"
   ]
  },
  {
   "cell_type": "markdown",
   "metadata": {},
   "source": [
    "The editing changed names of 17,781 (61778 - 43,997) cities and 34,033 (255,797 - 221,764) streets. "
   ]
  },
  {
   "cell_type": "markdown",
   "metadata": {},
   "source": [
    "### Cities - fixing spelling"
   ]
  },
  {
   "cell_type": "code",
   "execution_count": 19,
   "metadata": {
    "collapsed": false
   },
   "outputs": [
    {
     "data": {
      "text/plain": [
       "defaultdict(int,\n",
       "            {'1390': 1,\n",
       "             '17': 1,\n",
       "             '1850': 1,\n",
       "             '3220': 1,\n",
       "             '5': 1,\n",
       "             'Aalst': 69,\n",
       "             'Affligem': 3,\n",
       "             'Afligem': 4,\n",
       "             'Alsemberg': 1,\n",
       "             'Anderlecht - Anderlecht': 17492,\n",
       "             'Anderlecht;Forest - Vorst': 2,\n",
       "             'Asse': 50,\n",
       "             'Auderghem - Oudergem': 72,\n",
       "             'Baal': 5,\n",
       "             'Baardegem': 2,\n",
       "             'Battel': 1,\n",
       "             'Beersel': 3,\n",
       "             'Begijnendijk': 5,\n",
       "             'Berchem-Sainte-Agathe - Sint-Agatha-Berchem': 392,\n",
       "             'Berlare': 7,\n",
       "             'Bertem': 10,\n",
       "             'Bierbeek': 5,\n",
       "             'Bierges': 19,\n",
       "             'Blanden': 9,\n",
       "             'Bonheiden': 6,\n",
       "             'Boortmeerbeek': 31,\n",
       "             'Borchtlombeek': 1,\n",
       "             'Bousval': 1,\n",
       "             \"Braine l'Alleud\": 1058,\n",
       "             \"Braine-l'Alleud\": 113,\n",
       "             'Braine-le-Chateau': 4,\n",
       "             'Brussegem': 1,\n",
       "             'Brussel Evere': 1,\n",
       "             'Brussels': 33,\n",
       "             'Bruxelles - Brussel': 12866,\n",
       "             'Bruxelles /Brussel': 1,\n",
       "             'Bruxelles Uccle': 1,\n",
       "             'Bruxelles-Brussels': 2,\n",
       "             'Buggenhout': 10,\n",
       "             'Buizingen': 3,\n",
       "             'Ceroux': 2,\n",
       "             'Ceroux-Mousty': 35,\n",
       "             'Chaumont-Gistoux': 6,\n",
       "             'Corroy-le-Grand': 2,\n",
       "             'Court-Saint-Etienne': 3,\n",
       "             'Couture-St-Germain': 428,\n",
       "             'Denderleeuw': 9,\n",
       "             'Dendermonde': 22,\n",
       "             'Diegem': 22,\n",
       "             'Dilbeek': 42,\n",
       "             'Drogenbos': 6,\n",
       "             'Duisburg': 1,\n",
       "             'Dworp': 26,\n",
       "             'Egenhoven': 1,\n",
       "             'Eizer': 1,\n",
       "             'Eizeringen - Lennik': 4,\n",
       "             'Elewijt': 253,\n",
       "             'Elingen': 50,\n",
       "             'Enghien': 5,\n",
       "             'Eppegem': 62,\n",
       "             'Erembodegem': 10,\n",
       "             'Erpe-Mere': 1,\n",
       "             'Erps Kwerps': 2,\n",
       "             'Erps-Kwerps': 11,\n",
       "             'Etterbeek - Etterbeek': 253,\n",
       "             'Everberg': 2,\n",
       "             'Evere': 255,\n",
       "             'Forest - Vorst': 256,\n",
       "             'Gaasbeek': 1,\n",
       "             'Ganshoren': 128,\n",
       "             'Geel': 1,\n",
       "             'GemeenteOnbekend': 1,\n",
       "             'Genval': 3,\n",
       "             'Gooik': 11,\n",
       "             'Goor': 1,\n",
       "             'Grez-Doiceau': 12,\n",
       "             'Grimbegen': 1,\n",
       "             'Grimbergen': 142,\n",
       "             'Groenendaal': 2,\n",
       "             'Groot-Bijgaarden': 50,\n",
       "             'Haacht': 88,\n",
       "             'Haaltert': 12,\n",
       "             'Haasrode': 11,\n",
       "             'Halle': 18,\n",
       "             'Hamme-Mille': 4,\n",
       "             'Haren': 2,\n",
       "             'Haut-Ittre': 5,\n",
       "             'Heffen': 37,\n",
       "             'Heist o/d Berg': 83,\n",
       "             'Heist op den Berg': 2336,\n",
       "             'Heist-Op-Den-Berg': 1,\n",
       "             'Heist-op-den-Berg': 385,\n",
       "             'Herent': 266,\n",
       "             'Herne': 1,\n",
       "             'Hever': 1,\n",
       "             'Heverlee': 829,\n",
       "             'Hoeilaart': 3969,\n",
       "             'Hofstade': 15,\n",
       "             'Holsbeek': 57,\n",
       "             'Hombeek': 162,\n",
       "             'Hoves': 3,\n",
       "             'Huizingen': 4,\n",
       "             'Huldenberg': 8,\n",
       "             'Ittre': 2,\n",
       "             'Ixelles - Elsene': 434,\n",
       "             'Jette': 257,\n",
       "             'Kampenhout': 47,\n",
       "             'Kapelle-op-den-Bos': 10,\n",
       "             'Kapelle-op-den-Bosch': 1,\n",
       "             'Kapelle-op-den-bos': 1,\n",
       "             'Keerbergen': 301,\n",
       "             'Kessel-Lo': 97,\n",
       "             'Kessel-Lo;Wilsele': 1,\n",
       "             'Koekelberg': 89,\n",
       "             'Korbeek-Lo': 20,\n",
       "             'Korenberg': 1,\n",
       "             'Kortenberg': 92,\n",
       "             'Kraainem': 176,\n",
       "             'La Hulpe': 7,\n",
       "             'Laeken - Laken': 11,\n",
       "             'Lasne': 29,\n",
       "             'Lebbeke': 8,\n",
       "             'Lede': 1,\n",
       "             'Leefdaal': 2,\n",
       "             'Leerbeek': 1,\n",
       "             'Leest': 18,\n",
       "             'Lembeek': 6,\n",
       "             'Leuven': 5105,\n",
       "             'Liedekerke': 13,\n",
       "             'Liezele': 1,\n",
       "             'Lillois-Witterzee': 32,\n",
       "             'Limal': 9,\n",
       "             'Limelette': 5,\n",
       "             'Linkebeek': 2,\n",
       "             'Lippelo': 4,\n",
       "             'Londerzeel': 9,\n",
       "             'Loonbeek': 1,\n",
       "             'Louvain la Neuve': 2,\n",
       "             'Louvain-La-Neuve': 9,\n",
       "             'Louvain-la-Neuve': 7,\n",
       "             'Louvain-la-neuve': 12,\n",
       "             'Lubbeek': 8,\n",
       "             'Machelen': 153,\n",
       "             'Maransart': 17,\n",
       "             'Mechelen': 406,\n",
       "             'Mechelen (Battel)': 4,\n",
       "             'Meerbeke': 1,\n",
       "             'Meise': 17,\n",
       "             'Meldert': 1,\n",
       "             'Melsbroek': 4,\n",
       "             'Merchtem': 25,\n",
       "             'Molenbeek-Saint-Jean - Sint-Jans-Molenbeek': 361,\n",
       "             'Mollem': 5,\n",
       "             'Mont-Saint-Guibert': 4,\n",
       "             'Mousty': 2,\n",
       "             'Muizen': 9,\n",
       "             'Neder-Over-Heembeek': 1,\n",
       "             'Neerijse': 6,\n",
       "             'Neigem': 1,\n",
       "             'Nieuwenrode': 1,\n",
       "             'Ninove': 13,\n",
       "             'Nossegem': 1,\n",
       "             'Oetingen': 1,\n",
       "             'Oetingen Gooik': 1,\n",
       "             'Ohain': 1,\n",
       "             'Okegem': 4,\n",
       "             'Onze-Lieve-Vrouw-Lombeek': 1,\n",
       "             'Onze-Lieve-Vrouw-Waver': 1,\n",
       "             'Ophain-Bois-Seigneur-Isaac': 22,\n",
       "             'Ophain-Bois-Seigneur-Isaac ': 6,\n",
       "             'Opwijk': 12,\n",
       "             'Ottignies': 473,\n",
       "             'Ottignies-Louvain-la-Neuve': 19,\n",
       "             'Oud-Heverlee': 28,\n",
       "             'Oudegem': 1,\n",
       "             'Overijse': 99,\n",
       "             'Pepingen': 1,\n",
       "             'Petit-Enghien': 1,\n",
       "             'Plancenoit': 26,\n",
       "             'Pollare': 1,\n",
       "             'Pontstraat': 1,\n",
       "             'Putte': 6,\n",
       "             'Quenast': 1,\n",
       "             'RIXENSART': 1,\n",
       "             'Ramsdonk': 15,\n",
       "             'Rebecq': 3,\n",
       "             'Relegem': 49,\n",
       "             'Rhode-St-Genese': 1,\n",
       "             'Rijmenam': 12,\n",
       "             'Rixensart': 260,\n",
       "             'Roosdaal': 6,\n",
       "             'Rosieres': 2,\n",
       "             'RotselaaR': 1,\n",
       "             'Rotselaar': 37,\n",
       "             'Ruisbroek': 4,\n",
       "             'Saint-Gilles - Sint-Gillis': 1180,\n",
       "             'Saint-Josse-ten-Noode - Sint-Joost-ten-Node': 5235,\n",
       "             'Schaerbeek - Schaarbeek': 21145,\n",
       "             'Schepdaal': 132,\n",
       "             'Schriek': 3,\n",
       "             'Sint-Amands': 4,\n",
       "             'Sint-Genesius-Rode - Rhode-Saint-Genese': 32,\n",
       "             'Sint-Gertrudis-Pede': 12,\n",
       "             'Sint-Gillis-Bij-Dendermonde': 1,\n",
       "             'Sint-Gillis-bij-Dendermonde': 1,\n",
       "             'Sint-Joris-Weert': 7,\n",
       "             'Sint-Katelijne-Waver': 372,\n",
       "             'Sint-Katherina-Lombeek': 2,\n",
       "             'Sint-Kwintens-Lennik': 2,\n",
       "             'Sint-Martens-Bodegem': 1,\n",
       "             'Sint-Pieters-Leeuw': 11,\n",
       "             'Sint-Pietersleeuw': 1,\n",
       "             'Sint-Stevens Woluve': 1,\n",
       "             'Sint-Stevens-Woluwe': 11,\n",
       "             'Sint-Ulriks Kapelle': 8,\n",
       "             'Sint-Ulriks-Kapelle': 2,\n",
       "             'Sint-genesius-rode': 1,\n",
       "             'Steenhuffel': 37,\n",
       "             'Steenkerque': 2,\n",
       "             'Steenokkerzeel': 30,\n",
       "             'Sterrebeek': 2,\n",
       "             'Strombeek-Bever': 2,\n",
       "             'Terlanen': 1,\n",
       "             'Ternat': 56,\n",
       "             'Tervuren': 216,\n",
       "             'Tevuren': 1,\n",
       "             'Tildonk': 1,\n",
       "             'Tisselt': 18,\n",
       "             'Tourinnes-la-Grosse': 4,\n",
       "             'Tremelo': 87,\n",
       "             'Tubize': 461,\n",
       "             'Uccle - Ukkel': 195,\n",
       "             'Uccle;Brussels': 1,\n",
       "             'Vaalbeek': 3,\n",
       "             'Veltem-Beisem': 1,\n",
       "             'Vieusart': 85,\n",
       "             'Vieux-Gemappe': 1,\n",
       "             'Vieux-Genappe': 1,\n",
       "             'Ville de Bruxelles - Stad Brussel': 14,\n",
       "             'Vilvoorde': 51,\n",
       "             'Vossem': 5,\n",
       "             'WAUTHIER-BRAINE': 1,\n",
       "             'WAVRE': 3,\n",
       "             'Waterloo': 1859,\n",
       "             'Watermael-Boitsfort - Watermaal-Bosvoorde': 42,\n",
       "             'Wauthier-Braine': 1,\n",
       "             'Wavre': 59,\n",
       "             'Wavre Sud': 2,\n",
       "             'Weerde': 2,\n",
       "             'Wemmel': 47,\n",
       "             'Werchter': 3,\n",
       "             'Wespelaar': 3,\n",
       "             'Wezemaal': 4,\n",
       "             'Wezembeek-Oppem': 9,\n",
       "             'Wichelen': 5,\n",
       "             'Wijgmaal': 3,\n",
       "             'Willebroek': 64,\n",
       "             'Wilsele': 15,\n",
       "             'Winksele': 1,\n",
       "             'Woluwe Saint Etienne': 1,\n",
       "             'Woluwe-Saint-Lambert - Sint-Lambrecht-Woluwe': 7,\n",
       "             'Woluwe-Saint-Lambert - Sint-Lambrechts-Woluwe': 355,\n",
       "             'Woluwe-Saint-Pierre - Sint-Pieters-Woluwe': 1428,\n",
       "             'Woluwe-St-Pierre': 1,\n",
       "             'Wolvertem': 4,\n",
       "             'Zaventem': 18,\n",
       "             'Zaventen': 1,\n",
       "             'Zellik': 27,\n",
       "             'Zemst': 213,\n",
       "             'aalst': 2,\n",
       "             'affligem': 1,\n",
       "             'bertem': 6,\n",
       "             \"braine-l'Alleud\": 1,\n",
       "             'bruxelles': 1,\n",
       "             'groot-Bijgaarden': 1,\n",
       "             'halle': 1,\n",
       "             'huldenberg': 1,\n",
       "             'keerbergen': 28,\n",
       "             'limal': 1,\n",
       "             'ninove': 1,\n",
       "             'opwijk': 1,\n",
       "             'overijse': 3,\n",
       "             'relegem': 3,\n",
       "             'ternat': 2,\n",
       "             'tremelo': 3,\n",
       "             'uccle': 1,\n",
       "             'watermael-Boitsfort - Watermaal-Bosvoorde': 2,\n",
       "             'werchter': 1,\n",
       "             'wolvertem': 2})"
      ]
     },
     "execution_count": 19,
     "metadata": {},
     "output_type": "execute_result"
    }
   ],
   "source": [
    "# addr:city\n",
    "# print out cities in the dataset to inspect possible inconsistencies in spelling etc. for tag 'addr:city'\n",
    "\n",
    "explore_names(bxl, 'addr:city')"
   ]
  },
  {
   "cell_type": "code",
   "execution_count": 4,
   "metadata": {
    "collapsed": false
   },
   "outputs": [
    {
     "name": "stdout",
     "output_type": "stream",
     "text": [
      "------\n",
      "{'k': 'addr:city', 'v': 'Anderlecht;Forest - Vorst'}\n",
      "{'k': 'operator', 'v': 'BNP Paribas Fortis'}\n",
      "{'k': 'amenity', 'v': 'bank'}\n",
      "{'k': 'name', 'v': 'BNP Paribas Fortis'}\n",
      "{'changeset': '19284216', 'uid': '42033', 'timestamp': '2013-12-05T07:31:23Z', 'lon': '4.3264567', 'version': '7', 'user': 'Tbj', 'lat': '50.8239929', 'id': '356622931'}\n",
      "------\n",
      "{'k': 'addr:city', 'v': 'Uccle;Brussels'}\n",
      "{'k': 'wikidata', 'v': 'Q1686386'}\n",
      "{'k': 'operator', 'v': 'Foundation David and Alice van Buuren'}\n",
      "{'k': 'building', 'v': 'yes'}\n",
      "{'k': 'website', 'v': 'http://www.museumvanbuuren.be'}\n",
      "{'k': 'tourism', 'v': 'museum'}\n",
      "{'k': 'name:nl', 'v': 'Museum van Buuren'}\n",
      "{'k': 'name:fr', 'v': 'Musee Alice et David van Buuren'}\n",
      "{'k': 'name:en', 'v': 'Museum David and Alice van Buuren'}\n",
      "{'k': 'source', 'v': 'http://www.museumvanbuuren.be/en/pratiques.php'}\n",
      "{'k': 'name', 'v': 'Musee van Buuren Museum'}\n",
      "{'ref': '2337598248'}\n",
      "{'ref': '2337598245'}\n",
      "{'ref': '2337598204'}\n",
      "{'ref': '2337598174'}\n",
      "{'ref': '2337598186'}\n",
      "{'ref': '2337598184'}\n",
      "{'ref': '2337598140'}\n",
      "{'ref': '2337598146'}\n",
      "{'ref': '2337598072'}\n",
      "{'ref': '2337598075'}\n",
      "{'ref': '2337598045'}\n",
      "{'ref': '2337598054'}\n",
      "{'ref': '2337598102'}\n",
      "{'ref': '2337598105'}\n",
      "{'ref': '2337598155'}\n",
      "{'ref': '2337598158'}\n",
      "{'ref': '2337598196'}\n",
      "{'ref': '2337598190'}\n",
      "{'ref': '2337598226'}\n",
      "{'ref': '2337598218'}\n",
      "{'ref': '2337598248'}\n",
      "{'changeset': '35145639', 'uid': '3347900', 'timestamp': '2015-11-07T10:00:12Z', 'version': '2', 'user': 'ici_Brussels', 'id': '224919303'}\n",
      "------\n",
      "{'k': 'addr:city', 'v': 'Kessel-Lo;Wilsele'}\n",
      "{'k': 'type', 'v': 'associatedStreet'}\n",
      "{'k': 'name', 'v': 'Vuntcomplex'}\n",
      "{'ref': '31861564', 'role': 'street', 'type': 'way'}\n",
      "{'ref': '31861566', 'role': 'street', 'type': 'way'}\n",
      "{'ref': '31861567', 'role': 'street', 'type': 'way'}\n",
      "{'ref': '31861846', 'role': 'street', 'type': 'way'}\n",
      "{'ref': '31861845', 'role': 'street', 'type': 'way'}\n",
      "{'ref': '100011819', 'role': 'street', 'type': 'way'}\n",
      "{'ref': '101388654', 'role': 'street', 'type': 'way'}\n",
      "{'ref': '192559636', 'role': 'street', 'type': 'way'}\n",
      "{'ref': '101388652', 'role': 'street', 'type': 'way'}\n",
      "{'ref': '345381455', 'role': 'street', 'type': 'way'}\n",
      "{'ref': '101388651', 'role': 'street', 'type': 'way'}\n",
      "{'ref': '345381456', 'role': 'street', 'type': 'way'}\n",
      "{'ref': '345381451', 'role': 'street', 'type': 'way'}\n",
      "{'ref': '345381454', 'role': 'street', 'type': 'way'}\n",
      "{'ref': '345381450', 'role': 'street', 'type': 'way'}\n",
      "{'ref': '315666513', 'role': 'street', 'type': 'way'}\n",
      "{'ref': '101388643', 'role': 'street', 'type': 'way'}\n",
      "{'ref': '192559635', 'role': 'street', 'type': 'way'}\n",
      "{'ref': '149117671', 'role': 'street', 'type': 'way'}\n",
      "{'ref': '17540907', 'role': 'street', 'type': 'way'}\n",
      "{'ref': '17540932', 'role': 'street', 'type': 'way'}\n",
      "{'ref': '315666514', 'role': 'street', 'type': 'way'}\n",
      "{'ref': '315666515', 'role': 'street', 'type': 'way'}\n",
      "{'ref': '345381449', 'role': 'street', 'type': 'way'}\n",
      "{'ref': '225497053', 'role': 'street', 'type': 'way'}\n",
      "{'ref': '345381452', 'role': 'street', 'type': 'way'}\n",
      "{'ref': '345381453', 'role': 'street', 'type': 'way'}\n",
      "{'ref': '4004855', 'role': 'street', 'type': 'way'}\n",
      "{'changeset': '31187984', 'uid': '436365', 'timestamp': '2015-05-15T21:15:35Z', 'version': '7', 'user': 'escada', 'id': '1859477'}\n",
      "------\n",
      "{'k': 'addr:city', 'v': 'Anderlecht;Forest - Vorst'}\n",
      "{'k': 'name:nl', 'v': 'Humaniteitslaan'}\n",
      "{'k': 'name:fr', 'v': \"Boulevard de l'Humanite\"}\n",
      "{'k': 'type', 'v': 'associatedStreet'}\n",
      "{'k': 'name', 'v': \"Boulevard de l'Humanite - Humaniteitslaan\"}\n",
      "{'ref': '228637768', 'role': 'street', 'type': 'way'}\n",
      "{'ref': '116232399', 'role': 'street', 'type': 'way'}\n",
      "{'ref': '28815762', 'role': 'street', 'type': 'way'}\n",
      "{'ref': '228454004', 'role': 'house', 'type': 'way'}\n",
      "{'ref': '228454003', 'role': 'house', 'type': 'way'}\n",
      "{'ref': '228454017', 'role': 'house', 'type': 'way'}\n",
      "{'ref': '228454013', 'role': 'house', 'type': 'way'}\n",
      "{'changeset': '16817323', 'uid': '379936', 'timestamp': '2013-07-04T07:34:02Z', 'version': '2', 'user': 'Paul-Andre Duchesne', 'id': '3059905'}\n"
     ]
    },
    {
     "data": {
      "text/plain": [
       "defaultdict(int,\n",
       "            {'Anderlecht;Forest - Vorst': 2,\n",
       "             'Kessel-Lo;Wilsele': 1,\n",
       "             'Uccle;Brussels': 1})"
      ]
     },
     "execution_count": 4,
     "metadata": {},
     "output_type": "execute_result"
    }
   ],
   "source": [
    "# print out parent and child tags for values with more than one names in it (eg. Anderlecht;Forest - Vorst')\n",
    "\n",
    "two_cities = re.compile(r'(\\w;\\w)')\n",
    "process_problems(bxl, 'addr:city', two_cities, parents = True)"
   ]
  },
  {
   "cell_type": "code",
   "execution_count": 25,
   "metadata": {
    "collapsed": false
   },
   "outputs": [],
   "source": [
    "# addr:city\n",
    "# dictionary of fixes for cities, based on the list of all cities for key 'addr:city' (above)\n",
    "\n",
    "spelling_fix_city = \\\n",
    "{\n",
    "'1390': ';INVALID', # to invalidate names for cities with digits only\n",
    "'17': ';INVALID',\n",
    "'1850': ';INVALID',\n",
    "'3220': ';INVALID',\n",
    "'5': ';INVALID',    \n",
    "'Afligem':  'Affligem', \n",
    "'Afflingem':  'Affligem',     \n",
    "'Anderlecht;Forest - Vorst': 'Forest - Vorst', \n",
    "\"Braine-l Alleud\": \"Braine l'Alleud\",\n",
    "\"Braine-l'Alleud\": \"Braine l'Alleud\",\n",
    "'Brussel Evere': 'Evere',\n",
    "'Brussels': 'Bruxelles - Brussel',\n",
    "'Bruxelles /Brussel': 'Bruxelles - Brussel',\n",
    "'Bruxelles-Brussels': 'Bruxelles - Brussel',\n",
    "'Bruxelles Uccle': 'Uccle - Ukkel',\n",
    "'Erps Kwerps': 'Erps-Kwerps',\n",
    "'Heist o/d Berg': 'Heist op den Berg',\n",
    "'Heist-Op-Den-Berg': 'Heist op den Berg',\n",
    "'Heist-op-den Berg': 'Heist op den Berg',\n",
    "'Heist-op-den-Berg': 'Heist op den Berg',\n",
    "'Kapelle-op-den-Bosch': 'Kapelle-op-den-Bos',\n",
    "'Kapelle-op-den-bos': 'Kapelle-op-den-Bos', \n",
    "'Kessel-Lo;Wilsele': 'Leuven',\n",
    "'Louvain la Neuve': 'Louvain-la-neuve',\n",
    "'Louvain-La-Neuve': 'Louvain-la-neuve',\n",
    "'Louvain-la-Neuve': 'Louvain-la-neuve',\n",
    "'Ophain-Bois-Seigneur-Isaac ': 'Ophain-Bois-Seigneur-Isaac',\n",
    "'RIXENSART': 'Rixensart',\n",
    "'Rhode-St-Genese': 'Rhode-Saint-Genese',\n",
    "'Rhode-Saint-Genese': 'Sint-Genesius-Rode - Rhode-Saint-Genese',\n",
    "'RotselaaR': 'Rotselaar',\n",
    "'Sint-Pietersleeuw': 'Sint-Pieters-Leeuw',\n",
    "'Sint-Stevens-Woluve': 'Sint-Stevens-Woluwe',\n",
    "'Sint-Ulriks-Kapelle': 'Sint-Ulriks Kapelle',\n",
    "'Sint-genesius-rode':  'Sint-Genesius-Rode - Rhode-Saint-Genese',\n",
    "'Sint-Gillis-Bij-Dendermonde': 'Sint-Gillis-bij-Dendermonde',\n",
    "'Uccle;Brussels': 'Uccle - Ukkel',\n",
    "'Vieux-Gemappe': 'Vieux-Genappe',\n",
    "'Ville de Bruxelles - Stad Brussel': 'Bruxelles - Brussel',\n",
    "'WAUTHIER-BRAINE': 'Wauthier-Braine',\n",
    "'WAVRE': 'Wavre',\n",
    "'Woluwe-Saint-Lambert - Sint-Lambrecht-Woluwe': 'Woluwe-Saint-Lambert - Sint-Lambrechts-Woluwe' ,\n",
    "'Woluwe-St-Pierre': 'Woluwe-Saint-Pierre',\n",
    "'Woluwe-Saint-Pierre': 'Woluwe-Saint-Pierre - Sint-Pieters-Woluwe',\n",
    "'Zaventen': 'Zaventem',\n",
    "'aalst': 'Aalst',\n",
    "'affligem': 'Affligem',\n",
    "'bertem': 'Bertem',\n",
    "\"braine-l'Alleud\": \"Braine l'Alleud\",\n",
    "'bruxelles': 'Bruxelles - Brussel',\n",
    "'groot-Bijgaarden': 'Groot-Bijgaarden',\n",
    "'halle': 'Halle',\n",
    "'huldenberg': 'Huldenberg',\n",
    "'keerbergen': 'Keerbergen',\n",
    "'limal': 'Limal',\n",
    "'ninove': 'Ninove',\n",
    "'opwijk': 'Opwijk',\n",
    "'overijse': 'Overijse',\n",
    "'relegem': 'Relegem',\n",
    "'ternat': 'Ternat',\n",
    "'tremelo': 'Tremelo',\n",
    "'uccle': 'Uccle - Ukkel',\n",
    "'watermael-Boitsfort - Watermaal-Bosvoorde': 'Watermael-Boitsfort - Watermaal-Bosvoorde',\n",
    "'werchter': 'Werchter',\n",
    "'wolvertem': 'Wolvertem'\n",
    "}\n",
    "\n",
    "# addr:city\n",
    "# fix spellings of cities\n",
    "\n",
    "fix_osm(bxl, fix_address, 'addr:city', **spelling_fix_city)"
   ]
  },
  {
   "cell_type": "code",
   "execution_count": 20,
   "metadata": {
    "collapsed": false
   },
   "outputs": [
    {
     "data": {
      "text/plain": [
       "defaultdict(int, {'Bruxelles': 7267, 'Rhode-Saint-Genese': 17, 'bruxelles': 1})"
      ]
     },
     "execution_count": 20,
     "metadata": {},
     "output_type": "execute_result"
    }
   ],
   "source": [
    "# addr:city:fr\n",
    "# print out cities in the dataset to inspect possible inconsistencies in spelling etc. for tag 'addr:city:fr'\n",
    "\n",
    "explore_names(bxl, 'addr:city:fr')"
   ]
  },
  {
   "cell_type": "code",
   "execution_count": 17,
   "metadata": {
    "collapsed": true
   },
   "outputs": [],
   "source": [
    "# addr:city:fr\n",
    "# dictionary of fixes for cities, based on the list of all cities for key 'addr:city:fr' (above)\n",
    "\n",
    "spelling_fix_city_fr = {'bruxelles': 'Bruxelles'} \n",
    "\n",
    "fix_osm(bxl, fix_address, 'addr:city:fr', **spelling_fix_city_fr)"
   ]
  },
  {
   "cell_type": "code",
   "execution_count": 21,
   "metadata": {
    "collapsed": false
   },
   "outputs": [
    {
     "data": {
      "text/plain": [
       "defaultdict(int, {'Brussel': 7268, 'Sint-Genesius-Rode': 17})"
      ]
     },
     "execution_count": 21,
     "metadata": {},
     "output_type": "execute_result"
    }
   ],
   "source": [
    "# addr:city:nl\n",
    "# print out cities in the dataset to inspect possible inconsistencies in spelling etc. for tag 'addr:city:nl'\n",
    "\n",
    "explore_names(bxl, 'addr:city:nl')"
   ]
  },
  {
   "cell_type": "markdown",
   "metadata": {
    "collapsed": true
   },
   "source": [
    "### Streets - problem characters"
   ]
  },
  {
   "cell_type": "code",
   "execution_count": 3,
   "metadata": {
    "collapsed": false
   },
   "outputs": [
    {
     "data": {
      "text/plain": [
       "defaultdict(int,\n",
       "            {'abdij Van Vlierbeek': 1,\n",
       "             'avenue Guillaume gilbert': 1,\n",
       "             'avenue Mercator': 1,\n",
       "             'avenue Roi Albert 1er': 1,\n",
       "             'avenue du seigle': 1,\n",
       "             'boulevard Anspach - Anspachlaan': 1,\n",
       "             'chaussee de wavre': 1,\n",
       "             'chemin des Sages': 1,\n",
       "             'chemin du grand bois': 1,\n",
       "             \"d'Hoogvorstlaan\": 38,\n",
       "             'de Buisseretlaan': 39,\n",
       "             'de Kerchovelaan': 35,\n",
       "             'de Quirinilaan': 19,\n",
       "             'de Salmlaan': 1,\n",
       "             'de Selliersstraat': 36,\n",
       "             'de Tilbourgstraat': 13,\n",
       "             'della Faillestraat': 18,\n",
       "             'droeshoutstraat': 1,\n",
       "             'kalkestraat': 2,\n",
       "             'kapeldreef': 1,\n",
       "             'kasteelstraat': 1,\n",
       "             'kerkpleinweg': 1,\n",
       "             'kleine Daalstraat': 1,\n",
       "             'milleniumstraat': 2,\n",
       "             \"name=Chaussee d'Anvers - Antwerpsesteenweg\": 118,\n",
       "             'nieuwelaan': 1,\n",
       "             'nieuwstraat': 4,\n",
       "             'okegem-Dorp': 2,\n",
       "             'opwijksestraat': 1,\n",
       "             'ouvain - Leuvensesteenweg': 1670,\n",
       "             'ouvain - Leuvensesteenweg;Chaussee de Louvain - Leuvensesteenweg': 9,\n",
       "             'roodbos': 1,\n",
       "             'rue Achille Bauduin': 1,\n",
       "             'rue Belliard': 1,\n",
       "             'rue Ducale': 1,\n",
       "             'rue Florimond Letroye': 1,\n",
       "             'rue Scailquin - Scailquinstraat': 1,\n",
       "             'rue Toots Thielemans - Thielemansstraat': 3,\n",
       "             'rue de Hamme-Mille': 1,\n",
       "             'rue de Neussart': 1,\n",
       "             'rue des Minimes': 1,\n",
       "             'rue des Renards': 1,\n",
       "             'rue du Gouvernement Provisoire - Voorlopig Bewindstraat': 1,\n",
       "             'rue du Laid Burniat': 6,\n",
       "             'schaapbroekhoef': 7,\n",
       "             'van Waelhemstraat': 6,\n",
       "             'waverse steenweg': 1,\n",
       "             'weggevoerdenstraat': 1,\n",
       "             'wijngaardstraat': 1,\n",
       "             'wolfshaegen': 1,\n",
       "             'woluwe dal': 2})"
      ]
     },
     "execution_count": 3,
     "metadata": {},
     "output_type": "execute_result"
    }
   ],
   "source": [
    "# addr:street\n",
    "# print out streets with problem characters\n",
    "\n",
    "lower_first = re.compile(r'^[a-z]'\n",
    "\n",
    "process_problems(bxl, 'addr:street', lower_first)"
   ]
  },
  {
   "cell_type": "code",
   "execution_count": 20,
   "metadata": {
    "collapsed": false
   },
   "outputs": [
    {
     "data": {
      "text/plain": [
       "defaultdict(int,\n",
       "            {'57+': 2,\n",
       "             'Beverdijk?': 1,\n",
       "             'Chaussee de Ninove - Ninoofsesteenweg;Chaussee de Ninove - Ninoofse Steenweg': 1,\n",
       "             'Dreve de \"La Brise\" - \"La Brise\"(Dreef)': 7,\n",
       "             'Gr. Egm. & Hoornlaan': 1,\n",
       "             'Heirweg; Haststraat': 1,\n",
       "             'Place Carnoy;Place Jean-Baptiste Carnoy - Jean-Baptiste Carnoyplein': 2,\n",
       "             \"Route de l'Empire;Rue de l'Empire\": 6,\n",
       "             'Sluis; Donklaan': 7,\n",
       "             \"name=Chaussee d'Anvers - Antwerpsesteenweg\": 118,\n",
       "             'ouvain - Leuvensesteenweg;Chaussee de Louvain - Leuvensesteenweg': 9})"
      ]
     },
     "execution_count": 20,
     "metadata": {},
     "output_type": "execute_result"
    }
   ],
   "source": [
    "# addr:street\n",
    "# print out streets with problem characters\n",
    "\n",
    "problem_char = re.compile(r'[=\\+&<>;\\\"\\?%#$@\\,\\t\\r\\n]')\n",
    "\n",
    "process_problems(bxl, 'addr:street', problem_char)"
   ]
  },
  {
   "cell_type": "code",
   "execution_count": 21,
   "metadata": {
    "collapsed": false
   },
   "outputs": [
    {
     "data": {
      "text/plain": [
       "defaultdict(int,\n",
       "            {'18': 2,\n",
       "             '48': 1,\n",
       "             '57+': 2,\n",
       "             '7de Liniestraat': 25,\n",
       "             'Avenue Albert 1er': 7,\n",
       "             'Avenue Roi Albert 1er': 1,\n",
       "             'Baalsebaan 283': 1,\n",
       "             'Edingsesteenweg 247': 1,\n",
       "             'Grand Route (N4)': 1,\n",
       "             'Hoogstraat 2a': 1,\n",
       "             'Kasteeldreef 22': 8,\n",
       "             'Lenniksestraat 2': 1,\n",
       "             'Rue Albert 1er': 1,\n",
       "             'Wijngaardstraat 38': 1,\n",
       "             'Z.3. Doorvled': 1,\n",
       "             'Z.5 Mollem': 35,\n",
       "             'Zone 3 Doornveld': 2,\n",
       "             'Zone 3 Doornveld 50': 3,\n",
       "             'Zone 5 Mollem': 1})"
      ]
     },
     "execution_count": 21,
     "metadata": {},
     "output_type": "execute_result"
    }
   ],
   "source": [
    "# addr:street\n",
    "# print out streets with digits\n",
    "\n",
    "digit = re.compile(r'\\d')\n",
    "\n",
    "process_problems(bxl, 'addr:street', digit)"
   ]
  },
  {
   "cell_type": "code",
   "execution_count": 26,
   "metadata": {
    "collapsed": false
   },
   "outputs": [],
   "source": [
    "# addr:street\n",
    "# dictionary of fixes for street, based on the lists above\n",
    "\n",
    "spelling_fix_street = \\\n",
    "{    \n",
    "'18': ';INVALID', # to invalidate names for streets with digits only \n",
    "'48': ';INVALID',\n",
    "'Baalsebaan 283': 'Baalsebaan',\n",
    "'Edingsesteenweg 247': 'Edingsesteenweg',\n",
    "'Hoogstraat 2a': 'Hoogstraat',\n",
    "'Kasteeldreef 22': 'Kasteeldreef',\n",
    "'Lenniksestraat 2': 'Lenniksestraat',\n",
    "'Wijngaardstraat 38': 'Wijngaardstraat',\n",
    "'Zone 3 Doornveld 50': 'Z.3. Doornveld',\n",
    "'Zone 3 Doornveld': 'Z.3. Doornveld',\n",
    "'Z.3. Doorvled': 'Z.3. Doornveld',\n",
    "'Zone 5 Mollem': 'Z.5. Mollem',\n",
    "'Beverdijk?': 'Beverdijk', \n",
    "'Chaussee de Ninove - Ninoofsesteenweg;Chaussee de Ninove - Ninoofse Steenweg': 'Chaussee de Ninove - Ninoofsesteenweg',\n",
    "'Place Carnoy;Place Jean-Baptiste Carnoy - Jean-Baptiste Carnoyplein': \\\n",
    "    'Place Jean-Baptiste Carnoy - Jean-Baptiste Carnoyplein',\n",
    "\"Route de l'Empire;Rue de l'Empire\": \"Rue de l'Empire\",\n",
    "'Sluis; Donklaan': 'Donklaan',\n",
    "\"name=Chaussee d'Anvers - Antwerpsesteenweg\": \"Chaussee d'Anvers - Antwerpsesteenweg\",\n",
    "'ouvain - Leuvensesteenweg;Chaussee de Louvain - Leuvensesteenweg': 'Chaussee de Louvain - Leuvensesteenweg'\n",
    "}\n",
    "\n",
    "\n",
    "# get a dictionary of streets with lower case letter at the beginning\n",
    "\n",
    "lower_case = process_problems(bxl, 'addr:street', lower_first)\n",
    "\n",
    "# add to the dictionary of fixex the list of streets with lower case first letter\n",
    "for key in lower_case:\n",
    "    # exception for Dutch 'de'\n",
    "    if (key[0:2] != \"d'\" and key[0:2] != 'de') and (key[0:6] != 'ouvain'and key[0:4] != 'name'): \n",
    "    \n",
    "        spelling_fix_street[key] = key[0].upper() + key[1:]"
   ]
  },
  {
   "cell_type": "code",
   "execution_count": 28,
   "metadata": {
    "collapsed": true
   },
   "outputs": [],
   "source": [
    "# additional fixes in the dictionary\n",
    "spelling_fix_street['chemin du grand bois'] = 'Chemin du Grand Bois'\n",
    "spelling_fix_street['avenue du seigle'] = 'Avenue du Seigle'\n",
    "spelling_fix_street['chaussee de wavre'] = 'Chaussee de Wavre - Steenweg op Waver'\n",
    "spelling_fix_street['woluwe dal'] = 'Woluwedal'"
   ]
  },
  {
   "cell_type": "code",
   "execution_count": 29,
   "metadata": {
    "collapsed": true
   },
   "outputs": [],
   "source": [
    "# addr:street\n",
    "# fix spellings of streets\n",
    "\n",
    "fix_osm(bxl, fix_address, 'addr:street', **spelling_fix_street)"
   ]
  },
  {
   "cell_type": "code",
   "execution_count": 11,
   "metadata": {
    "collapsed": false
   },
   "outputs": [
    {
     "data": {
      "text/plain": [
       "defaultdict(int, {})"
      ]
     },
     "execution_count": 11,
     "metadata": {},
     "output_type": "execute_result"
    }
   ],
   "source": [
    "# addr:steet:fr\n",
    "# print out streets with problem characters in the dataset for tag 'addr:city:fr'\n",
    "\n",
    "process_problems(bxl, 'addr:street:fr', problem_char)"
   ]
  },
  {
   "cell_type": "code",
   "execution_count": 12,
   "metadata": {
    "collapsed": false
   },
   "outputs": [
    {
     "data": {
      "text/plain": [
       "defaultdict(int, {'rue Gretry': 1})"
      ]
     },
     "execution_count": 12,
     "metadata": {},
     "output_type": "execute_result"
    }
   ],
   "source": [
    "# addr:steet:fr\n",
    "# print out streets with lower case at the beginning for tag 'addr:street:fr'\n",
    "\n",
    "process_problems(bxl, 'addr:street:fr', lower_first)"
   ]
  },
  {
   "cell_type": "code",
   "execution_count": 30,
   "metadata": {
    "collapsed": false
   },
   "outputs": [
    {
     "data": {
      "text/plain": [
       "defaultdict(int, {})"
      ]
     },
     "execution_count": 30,
     "metadata": {},
     "output_type": "execute_result"
    }
   ],
   "source": [
    "# addr:street:fr\n",
    "# print out streets with digits for tag 'addr:street:fr'\n",
    "\n",
    "process_problems(bxl, 'addr:street:fr', digit)"
   ]
  },
  {
   "cell_type": "code",
   "execution_count": 13,
   "metadata": {
    "collapsed": true
   },
   "outputs": [],
   "source": [
    "# addr:steet:fr\n",
    "# fix spelling of streets \n",
    "\n",
    "spelling_fix_street_fr = {'rue Gentry': 'Rue Gentry'}\n",
    "\n",
    "fix_osm(bxl, fix_address, 'addr:street:fr', **spelling_fix_street_fr)"
   ]
  },
  {
   "cell_type": "code",
   "execution_count": 14,
   "metadata": {
    "collapsed": false
   },
   "outputs": [
    {
     "data": {
      "text/plain": [
       "defaultdict(int, {})"
      ]
     },
     "execution_count": 14,
     "metadata": {},
     "output_type": "execute_result"
    }
   ],
   "source": [
    "# addr:steet:nl\n",
    "# print out streets with problem characters in the dataset for tag 'addr:street:nl'\n",
    "\n",
    "process_problems(bxl, 'addr:street:nl', problem_char)"
   ]
  },
  {
   "cell_type": "code",
   "execution_count": 15,
   "metadata": {
    "collapsed": false
   },
   "outputs": [
    {
     "data": {
      "text/plain": [
       "defaultdict(int, {'de Witte de Haelenstraat': 29})"
      ]
     },
     "execution_count": 15,
     "metadata": {},
     "output_type": "execute_result"
    }
   ],
   "source": [
    "# addr:steet:nl\n",
    "# print out streets with lower case at the beginning for tag 'addr:street:nl'\n",
    "\n",
    "process_problems(bxl, 'addr:street:nl', lower_first)"
   ]
  },
  {
   "cell_type": "code",
   "execution_count": 32,
   "metadata": {
    "collapsed": false
   },
   "outputs": [
    {
     "data": {
      "text/plain": [
       "defaultdict(int, {})"
      ]
     },
     "execution_count": 32,
     "metadata": {},
     "output_type": "execute_result"
    }
   ],
   "source": [
    "# addr:steet:nl\n",
    "# print out streets with digits for tag 'addr:street:nl'\n",
    "\n",
    "process_problems(bxl, 'addr:street:nl', digit)"
   ]
  },
  {
   "cell_type": "markdown",
   "metadata": {},
   "source": [
    "No need to fix any names in tag 'addr:street:nl'"
   ]
  },
  {
   "cell_type": "code",
   "execution_count": 6,
   "metadata": {
    "collapsed": false
   },
   "outputs": [
    {
     "data": {
      "text/plain": [
       "defaultdict(int,\n",
       "            {'1000;1020;1120;1130': 1,\n",
       "             '1070;1190': 1,\n",
       "             '1300;1301': 2,\n",
       "             '1330;1331;1332': 1,\n",
       "             '1340;1341;1342;1348': 1,\n",
       "             '1420;1421;1428': 1,\n",
       "             '1470;1471;1472;1473;1474;1476': 1,\n",
       "             '1740 ternat': 1,\n",
       "             '1741 Ternat': 1,\n",
       "             '1755 Gooik-Oetingen': 1,\n",
       "             '1780 WEMMEL': 1,\n",
       "             '2220;2221;2222;2223': 1,\n",
       "             '3000;3001;3010;3012;3018': 1,\n",
       "             '3050 Oud-Heverlee': 1,\n",
       "             '3050;3051;3052;3053;3054': 1,\n",
       "             '3060 Bertem': 1,\n",
       "             '3060;3061': 1,\n",
       "             '3070;3071;3078': 1,\n",
       "             '3110;3111;3118': 3,\n",
       "             '3120 Tremelo': 1,\n",
       "             '3120;3128': 1,\n",
       "             '3210;3211;3212': 1,\n",
       "             '3220;3221': 1,\n",
       "             '61 1348': 1,\n",
       "             '9300;9308;9310;9320': 1,\n",
       "             '9400;9401;9402;9403;9404;9406': 1,\n",
       "             '9450;9451': 1,\n",
       "             '9470;9472;9473': 1,\n",
       "             '9500;9506': 1,\n",
       "             'B-1348': 1,\n",
       "             'B-1831': 1,\n",
       "             'B1500': 2,\n",
       "             'BE': 1,\n",
       "             'Grimbergen': 1,\n",
       "             'Holsbeek': 1,\n",
       "             'World Customs Wrganization ': 1})"
      ]
     },
     "execution_count": 6,
     "metadata": {},
     "output_type": "execute_result"
    }
   ],
   "source": [
    "# addr:postcode\n",
    "# print out postcodes with non-digit characters\n",
    "\n",
    "problem_postcodes = re.compile(r'[\\D]') \n",
    "\n",
    "process_problems(bxl, 'addr:postcode', problem_postcodes)"
   ]
  },
  {
   "cell_type": "code",
   "execution_count": 41,
   "metadata": {
    "collapsed": false
   },
   "outputs": [
    {
     "name": "stdout",
     "output_type": "stream",
     "text": [
      "------\n",
      "{'k': 'addr:postcode', 'v': '701'}\n",
      "{'k': 'addr:street', 'v': 'IJsbergstraat'}\n",
      "{'k': 'addr:city', 'v': 'Dilbeek'}\n",
      "{'k': 'building', 'v': 'house'}\n",
      "{'ref': '3610556589'}\n",
      "{'ref': '3610556581'}\n",
      "{'ref': '3610556582'}\n",
      "{'ref': '3610556585'}\n",
      "{'ref': '3610556587'}\n",
      "{'ref': '3610556596'}\n",
      "{'ref': '3610556589'}\n",
      "{'changeset': '39289861', 'uid': '2123963', 'timestamp': '2016-05-13T11:50:00Z', 'version': '2', 'user': 'Diabolix', 'id': '355446598'}\n"
     ]
    },
    {
     "data": {
      "text/plain": [
       "defaultdict(int, {'701': 1})"
      ]
     },
     "execution_count": 41,
     "metadata": {},
     "output_type": "execute_result"
    }
   ],
   "source": [
    "# addr:postcode\n",
    "# print out postcodes with less than four digits\n",
    "\n",
    "short_postcodes = re.compile(r'^\\d{0,3}$') \n",
    "\n",
    "process_problems(bxl, 'addr:postcode', short_postcodes, parents = True)"
   ]
  },
  {
   "cell_type": "code",
   "execution_count": 42,
   "metadata": {
    "collapsed": false
   },
   "outputs": [
    {
     "name": "stdout",
     "output_type": "stream",
     "text": [
      "------\n",
      "{'k': 'addr:postcode', 'v': '10303'}\n",
      "{'k': 'addr:country', 'v': 'BE'}\n",
      "{'k': 'addr:street', 'v': 'Boulevard Lambermont - Lambermontlaan'}\n",
      "{'k': 'addr:city', 'v': 'Schaerbeek - Schaarbeek'}\n",
      "{'k': 'building', 'v': 'yes'}\n",
      "{'k': 'type', 'v': 'multipolygon'}\n",
      "{'ref': '228736300', 'role': 'inner', 'type': 'way'}\n",
      "{'ref': '228736299', 'role': 'outer', 'type': 'way'}\n",
      "{'changeset': '16827307', 'uid': '681967', 'timestamp': '2013-07-04T19:48:02Z', 'version': '1', 'user': 'FantAntonio99', 'id': '3064372'}\n"
     ]
    },
    {
     "data": {
      "text/plain": [
       "defaultdict(int, {'10303': 1})"
      ]
     },
     "execution_count": 42,
     "metadata": {},
     "output_type": "execute_result"
    }
   ],
   "source": [
    "# addr:postcode\n",
    "# print out postcodes with more than four digits\n",
    "\n",
    "long_postcodes = re.compile(r'^\\d{5,10}$') \n",
    "\n",
    "process_problems(bxl, 'addr:postcode', long_postcodes, parents = True)"
   ]
  },
  {
   "cell_type": "code",
   "execution_count": 46,
   "metadata": {
    "collapsed": true
   },
   "outputs": [],
   "source": [
    "# addr:postcode\n",
    "# dictionary of fixes for postcodes, based on the lists above\n",
    "\n",
    "spelling_fix_postcode = \\\n",
    "{\n",
    "'10303': '1030', # fixing postcode with one redundant digit \n",
    "'701': '1701',   # fixing postcode with one less digit \n",
    "'1740 ternat': '1740',\n",
    "'1741 Ternat': '1741',\n",
    "'1755 Gooik-Oetingen': '1755',\n",
    "'1780 WEMMEL': '1780',\n",
    "'3050 Oud-Heverlee': '3050',\n",
    "'3060 Bertem': '3060',\n",
    "'3120 Tremelo': '3120',\n",
    "'61 1348': '1348',\n",
    "'B-1348': '1348',\n",
    "'B-1831': '1831',\n",
    "'B1500': '1500',\n",
    "'BE': ';INVALID', # invalidate values with invalid post codes\n",
    "'Grimbergen': ';INVALID',\n",
    "'Holsbeek': ';INVALID',\n",
    "'World Customs Wrganization ': ';INVALID'\n",
    "}  "
   ]
  },
  {
   "cell_type": "code",
   "execution_count": 47,
   "metadata": {
    "collapsed": false
   },
   "outputs": [],
   "source": [
    "# addr:postcode\n",
    "# fix spelling of postcodes\n",
    "\n",
    "fix_osm(bxl, fix_address, 'addr:postcode', **spelling_fix_postcode)"
   ]
  },
  {
   "cell_type": "code",
   "execution_count": 49,
   "metadata": {
    "collapsed": false
   },
   "outputs": [
    {
     "data": {
      "text/plain": [
       "defaultdict(int, {})"
      ]
     },
     "execution_count": 49,
     "metadata": {},
     "output_type": "execute_result"
    }
   ],
   "source": [
    "# postal_code\n",
    "# print out postcodes with non-digit characters\n",
    "\n",
    "problem_postcodes = re.compile(r'[\\D]') \n",
    "\n",
    "process_problems(bxl, 'postal_code', problem_postcodes)"
   ]
  },
  {
   "cell_type": "code",
   "execution_count": 50,
   "metadata": {
    "collapsed": false
   },
   "outputs": [
    {
     "data": {
      "text/plain": [
       "defaultdict(int, {})"
      ]
     },
     "execution_count": 50,
     "metadata": {},
     "output_type": "execute_result"
    }
   ],
   "source": [
    "# postal_code\n",
    "# print out postcodes with less than four digits\n",
    "\n",
    "process_problems(bxl, 'postal_code', short_postcodes, parents = True)"
   ]
  },
  {
   "cell_type": "code",
   "execution_count": 51,
   "metadata": {
    "collapsed": false
   },
   "outputs": [
    {
     "data": {
      "text/plain": [
       "defaultdict(int, {})"
      ]
     },
     "execution_count": 51,
     "metadata": {},
     "output_type": "execute_result"
    }
   ],
   "source": [
    "# postal_code\n",
    "# print out postcodes with more than four digits\n",
    "\n",
    "process_problems(bxl, 'postal_code', long_postcodes, parents = True)"
   ]
  },
  {
   "cell_type": "markdown",
   "metadata": {},
   "source": [
    "No need to fix any code in tag 'postal_code'"
   ]
  },
  {
   "cell_type": "markdown",
   "metadata": {},
   "source": [
    "## Import into SQL database"
   ]
  },
  {
   "cell_type": "code",
   "execution_count": 36,
   "metadata": {
    "collapsed": false
   },
   "outputs": [],
   "source": [
    "# export the osm_file into csv files.\n",
    "\n",
    "from export import *\n",
    "\n",
    "OSM_PATH = bxl\n",
    "\n",
    "if __name__ == '__main__':\n",
    "    process_map(OSM_PATH, validate = False)"
   ]
  },
  {
   "cell_type": "code",
   "execution_count": 37,
   "metadata": {
    "collapsed": false
   },
   "outputs": [],
   "source": [
    "# create sqlite3 database\n",
    "\n",
    "import sqlite3\n",
    "\n",
    "with sqlite3.connect(r'brussels.db') as conn:\n",
    "    cur = conn.cursor()\n",
    "\n",
    "# create tables\n",
    "\n",
    "    cur.execute('''\n",
    "        CREATE TABLE nodes (\n",
    "            id INTEGER,\n",
    "            lat REAL,\n",
    "            lon REAL,\n",
    "            user TEXT,\n",
    "            uid INTEGER,\n",
    "            version TEXT, \n",
    "            changeset INTEGER,\n",
    "            timestamp TEXT);\n",
    "            ''')\n",
    "    \n",
    "    cur.execute('''\n",
    "        CREATE TABLE node_tags (\n",
    "            id INTEGER,\n",
    "            key TEXT,\n",
    "            value TEXT,\n",
    "            type TEXT,\n",
    "            FOREIGN KEY (id) REFERENCES nodes (id));\n",
    "            ''')\n",
    "\n",
    "    cur.execute('''\n",
    "        CREATE TABLE ways (\n",
    "            id INTEGER,\n",
    "            user TEXT,\n",
    "            uid INTEGER,\n",
    "            version TEXT, \n",
    "            changeset INTEGER,\n",
    "            timestamp TEXT);\n",
    "            ''')\n",
    "\n",
    "    cur.execute('''\n",
    "        CREATE TABLE way_nodes (\n",
    "            id INTEGER,\n",
    "            node_id key INTEGER,\n",
    "            position INTEGER,\n",
    "            FOREIGN KEY (id) REFERENCES ways (id));\n",
    "            ''')\n",
    "\n",
    "    cur.execute('''\n",
    "        CREATE TABLE way_tags (\n",
    "            id INTEGER,\n",
    "            key TEXT,\n",
    "            value TEXT,\n",
    "            type TEXT,\n",
    "            FOREIGN KEY (id) REFERENCES ways (id));\n",
    "            ''' )\n",
    "conn.commit()   \n",
    "\n",
    "# import of the csv files into the database was made through the command line shell:\n",
    "\n",
    "# $ sqlite3 brussels.db\n",
    "#     sqlite> .mode csv\n",
    "#     sqlite> .import nodes.csv nodes\n",
    "#     sqlite> .import nodes_tags.csv node_tags\n",
    "#     sqlite> .import ways.csv ways\n",
    "#     sqlite> .import ways_nodes.csv way_nodes\n",
    "#     sqlite> .import ways_tags.csv way_tags"
   ]
  },
  {
   "cell_type": "markdown",
   "metadata": {
    "collapsed": true
   },
   "source": [
    "## Database overview\n"
   ]
  },
  {
   "cell_type": "code",
   "execution_count": 38,
   "metadata": {
    "collapsed": false
   },
   "outputs": [
    {
     "name": "stdout",
     "output_type": "stream",
     "text": [
      "[(4589143,)]\n"
     ]
    }
   ],
   "source": [
    "# Numbers of nodes\n",
    "\n",
    "with sqlite3.connect(r'brussels.db') as conn:\n",
    "    cur = conn.cursor()\n",
    "    cur.execute(\"SELECT COUNT(*) FROM nodes;\")\n",
    "    results = cur.fetchall()\n",
    "    print results"
   ]
  },
  {
   "cell_type": "code",
   "execution_count": 39,
   "metadata": {
    "collapsed": false
   },
   "outputs": [
    {
     "name": "stdout",
     "output_type": "stream",
     "text": [
      "[(11054570,)]\n"
     ]
    }
   ],
   "source": [
    "# total numbers of nodes, including those from ways\n",
    "\n",
    "with sqlite3.connect(r'brussels.db') as conn:\n",
    "    cur = conn.cursor()\n",
    "    cur.execute('''SELECT\n",
    "                  (SELECT COUNT(*) FROM nodes) + \n",
    "                  (SELECT COUNT(*) FROM way_nodes);''')\n",
    "    results = cur.fetchall()\n",
    "    print results"
   ]
  },
  {
   "cell_type": "code",
   "execution_count": 13,
   "metadata": {
    "collapsed": false
   },
   "outputs": [
    {
     "name": "stdout",
     "output_type": "stream",
     "text": [
      "[(795223,)]\n"
     ]
    }
   ],
   "source": [
    "# Number of ways\n",
    "\n",
    "with sqlite3.connect(r'brussels.db') as conn:\n",
    "    cur = conn.cursor()\n",
    "    cur.execute(\"SELECT COUNT(*) FROM ways;\")\n",
    "    results = cur.fetchall()\n",
    "    print results"
   ]
  },
  {
   "cell_type": "code",
   "execution_count": 40,
   "metadata": {
    "collapsed": false
   },
   "outputs": [
    {
     "name": "stdout",
     "output_type": "stream",
     "text": [
      "[(2537,)]\n"
     ]
    }
   ],
   "source": [
    "# number of unique users\n",
    "\n",
    "with sqlite3.connect(r'brussels.db') as conn:\n",
    "    cur = conn.cursor()\n",
    "    cur.execute('''SELECT COUNT(DISTINCT(users.uid))          \n",
    "                   FROM (SELECT uid FROM nodes UNION ALL SELECT uid FROM ways) users;''')\n",
    "    results = cur.fetchall()\n",
    "    print results"
   ]
  },
  {
   "cell_type": "code",
   "execution_count": 41,
   "metadata": {
    "collapsed": false
   },
   "outputs": [
    {
     "name": "stdout",
     "output_type": "stream",
     "text": [
      "[(u'TAA', 918281),\n",
      " (u'lodde1949', 762899),\n",
      " (u'eMerzh', 625829),\n",
      " (u'foxandpotatoes', 350266),\n",
      " (u'Polyglot', 222496),\n",
      " (u'FantAntonio99', 213569),\n",
      " (u'Paul-Andre Duchesne', 175319),\n",
      " (u'Potato_Spirit', 167486),\n",
      " (u'escada', 157010),\n",
      " (u'Scapor', 145232)]\n"
     ]
    }
   ],
   "source": [
    "# top ten most active users\n",
    "\n",
    "import pprint \n",
    "\n",
    "with sqlite3.connect(r'brussels.db') as conn:\n",
    "    cur = conn.cursor()\n",
    "    cur.execute('''SELECT names.user, COUNT(*) as num\n",
    "                   FROM (SELECT user FROM nodes UNION ALL SELECT user FROM ways) names\n",
    "                   GROUP BY names.user\n",
    "                   ORDER BY num DESC\n",
    "                   LIMIT 10;''')\n",
    "    results = cur.fetchall()\n",
    "    pprint.pprint(results) "
   ]
  },
  {
   "cell_type": "code",
   "execution_count": 54,
   "metadata": {
    "collapsed": false
   },
   "outputs": [
    {
     "name": "stdout",
     "output_type": "stream",
     "text": [
      "[(u'bus_stop', 9659), (u'station', 255), (u'tram_stop', 607)]\n"
     ]
    }
   ],
   "source": [
    "# number of public transport stops (bus stops, tram stops, underground and railway stations)\n",
    "\n",
    "with sqlite3.connect(r'brussels.db') as conn:\n",
    "    cur = conn.cursor()\n",
    "    cur.execute('''SELECT value, COUNT(*)\n",
    "                   FROM (SELECT key, value from node_tags \n",
    "                   UNION ALL SELECT key, value from way_tags)\n",
    "                   WHERE (value = 'tram_stop' OR value = 'bus_stop') OR (value = 'station' AND key = 'railway')\n",
    "                   GROUP BY value;''')\n",
    "    results = cur.fetchall()\n",
    "    print results "
   ]
  },
  {
   "cell_type": "code",
   "execution_count": 53,
   "metadata": {
    "collapsed": false
   },
   "outputs": [
    {
     "name": "stdout",
     "output_type": "stream",
     "text": [
      "[(50,)]\n"
     ]
    }
   ],
   "source": [
    "# number of murals in Brussels \n",
    "\n",
    "with sqlite3.connect(r'brussels.db') as conn:\n",
    "    cur = conn.cursor()\n",
    "    cur.execute('''SELECT COUNT(*)\n",
    "                   FROM node_tags\n",
    "                   WHERE value = 'mural' \n",
    "                   GROUP BY value;''')\n",
    "    results = cur.fetchall()\n",
    "    print results"
   ]
  },
  {
   "cell_type": "code",
   "execution_count": 52,
   "metadata": {
    "collapsed": false
   },
   "outputs": [
    {
     "name": "stdout",
     "output_type": "stream",
     "text": [
      "[(u'Ric Hochet', 2),\n",
      " (u'Tintin', 2),\n",
      " (u'Asterix et Obelix', 1),\n",
      " (u'Billy the Cat', 1),\n",
      " (u'Blake et Mortimer', 1),\n",
      " (u'Blondin et Cirage', 1),\n",
      " (u'Bob et Bobette', 1),\n",
      " (u'Boule et Bill', 1),\n",
      " (u'Broussaille', 1),\n",
      " (u'Caroline Baldwin', 1),\n",
      " (u'Cori', 1),\n",
      " (u'Corto Maltese', 1),\n",
      " (u'Cubitus', 1),\n",
      " (u'Gaston Lagaffe', 1),\n",
      " (u'Gil Jourdan', 1),\n",
      " (u'Isabelle et Calendula', 1),\n",
      " (u'Jojo', 1),\n",
      " (u'Kiekeboe', 1),\n",
      " (u\"L'Ange de Sambre\", 1),\n",
      " (u'La Vache', 1),\n",
      " (u'La patrouille des Castors', 1),\n",
      " (u'Le Chat', 1),\n",
      " (u'Le Jeune Albert', 1),\n",
      " (u'Le Passage', 1),\n",
      " (u'Le Petit Spirou', 1),\n",
      " (u'Le Scorpion', 1),\n",
      " (u'Le roi des mouches', 1),\n",
      " (u'Les reves de Nick', 1),\n",
      " (u'Lincoln', 1),\n",
      " (u'Lucky Luke', 1),\n",
      " (u'Martine', 1),\n",
      " (u'Monsieur Jean', 1),\n",
      " (u'Natacha', 1),\n",
      " (u'Neron', 1),\n",
      " (u'Odilon Verjus', 1),\n",
      " (u'Olivier Rameau', 1),\n",
      " (u\"Passe-moi l'ciel\", 1),\n",
      " (u'Quick et Flupke', 1),\n",
      " (u'Titeuf', 1),\n",
      " (u'Victor Sackville', 1),\n",
      " (u'XIII', 1),\n",
      " (u'Yoko Tsuno', 1)]\n"
     ]
    }
   ],
   "source": [
    "import pprint\n",
    "\n",
    "# Creators of comic books heroes who have their mural (pig wall painting) in Brussels\n",
    "\n",
    "with sqlite3.connect(r'brussels.db') as conn:\n",
    "    cur = conn.cursor()\n",
    "    cur.execute('''SELECT value, COUNT(*) AS artists\n",
    "                   FROM (SELECT id FROM node_tags WHERE value = 'mural') AS murals\n",
    "                   JOIN node_tags \n",
    "                   ON murals.id = node_tags.id\n",
    "                   WHERE key = 'title'\n",
    "                   GROUP BY value\n",
    "                   ORDER BY artists DESC;''')\n",
    "    results = cur.fetchall()\n",
    "    pprint.pprint(results) "
   ]
  }
 ],
 "metadata": {
  "celltoolbar": "Slideshow",
  "kernelspec": {
   "display_name": "Python 2",
   "language": "python",
   "name": "python2"
  },
  "language_info": {
   "codemirror_mode": {
    "name": "ipython",
    "version": 2
   },
   "file_extension": ".py",
   "mimetype": "text/x-python",
   "name": "python",
   "nbconvert_exporter": "python",
   "pygments_lexer": "ipython2",
   "version": "2.7.10"
  }
 },
 "nbformat": 4,
 "nbformat_minor": 0
}
